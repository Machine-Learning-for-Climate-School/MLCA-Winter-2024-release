{
 "cells": [
  {
   "cell_type": "markdown",
   "id": "674d2c19-cb34-4f31-ba6e-dd4d93a411c5",
   "metadata": {},
   "source": [
    "# **Excercise session 1: Getting familiar with satellite data**"
   ]
  },
  {
   "cell_type": "markdown",
   "id": "8fcb7c09-23fa-45b7-83c5-6df2a8c4394e",
   "metadata": {},
   "source": [
    "Satellite data can be obtain from multiple sources and platforms. Data can be downloaded to a local computer or used directly in a cloud-based system prepared for that. We will use **Aalto JupyterHub** as our main workplace. You can find the documentation for JupyterHub here https://scicomp.aalto.fi/aalto/jupyterhub/\n",
    "\n",
    "In this first exercise session we will get familiar with data from Sentinel-2 and Sentinel-5P satellites. We will retrieve specific observations from different locations and we will combine several days of Sentinel-2 observations to create a time-lapse for a specific region of interest.\n",
    "\n",
    "**Note:** You can also use the **JupyterLab in Copernicus dataspace**. There, you can use **openEO** or **SentinelHub** libraries (sample notebooks are included in `/samples`). Save your notebook in `/mystorage`. When working with openEO library, using OpenEO kernel is recommended (you can change your working kernel on the top right of this notebook)."
   ]
  },
  {
   "cell_type": "code",
   "execution_count": null,
   "id": "45e0305d-9d5e-40f7-9297-e41327890d5e",
   "metadata": {
    "editable": true,
    "slideshow": {
     "slide_type": ""
    },
    "tags": []
   },
   "outputs": [],
   "source": [
    "# import necessary libraries\n",
    "\n",
    "import matplotlib.pyplot as plt\n",
    "import numpy\n",
    "import os\n",
    "from PIL import Image\n",
    "import rasterio\n",
    "from scipy.ndimage import zoom\n",
    "import xarray as xr\n",
    "\n",
    "#....\n",
    "\n",
    "import openeo"
   ]
  },
  {
   "cell_type": "markdown",
   "id": "5e772134-0d7d-40fb-8a9c-f255f0b9b84e",
   "metadata": {},
   "source": [
    "## **Exercise 1.1**\n",
    "\n",
    "In satellite imagery, bands are specific ranges of wavelengths captured by the satellite's sensors. Each band represents a segment of the electromagnetic spectrum and captures specific types of light.\n",
    "These bands are used to create images and gather various types of information about the Earth's surface, such as vegetation health, water bodies, urban areas, and more.\n",
    "\n",
    "Sentinel-2 satellites are equipped with a multi-spectral camera that captures 13 spectral bands ranging from the visible spectrum to the near-infrared.\n",
    "    Each band is useful for different types of analysis. For example, some bands are optimized for vegetation monitoring, while others are better for water body detection or cloud assessment.\n",
    "\n",
    "Bands for basic analysis are usually: Red, Green and Blue:\n",
    "- Red (Band 4): Captures light in the red wavelength. Useful for vegetation analysis and as part of the standard RGB (Red, Green, Blue) color model for true color imagery.\n",
    "- Green (Band 3): Captures light in the green wavelength. Important for analyzing plant health and also a part of the RGB color model.\n",
    "- Blue (Band 2): Captures light in the blue wavelength. Used in RGB imagery and helpful for coastal and marine observation."
   ]
  },
  {
   "cell_type": "markdown",
   "id": "9065b5d1-453c-4fb8-930a-6e44a86954ad",
   "metadata": {
    "editable": true,
    "slideshow": {
     "slide_type": ""
    },
    "tags": []
   },
   "source": [
    "Choose two different areas of interest (aoi) of about 400 km$^2$ and pick a date such that you get a clear view of the areas with Sentinel-2 satellite. Choose the two aoi from different type (e.g. a natural and an urban site). Plot the two areas and analyse observations in different days. What can you see?"
   ]
  },
  {
   "cell_type": "markdown",
   "id": "90fb125e-fa99-46ab-b9d5-d5357ef9d1fe",
   "metadata": {},
   "source": [
    "**Note:** You can take a look at `notebooks/mlca2024/samples/Load_Collection.ipynb` for similar examples."
   ]
  },
  {
   "cell_type": "code",
   "execution_count": null,
   "id": "c0dd49a4-35d1-45b3-838d-711bea18d7cf",
   "metadata": {},
   "outputs": [],
   "source": [
    "connection = openeo.connect(url=\"openeo.dataspace.copernicus.eu\")\n",
    "connection.authenticate_oidc()"
   ]
  },
  {
   "cell_type": "code",
   "execution_count": null,
   "id": "7a1042a0-df7c-439b-8942-4be40f6a97ea",
   "metadata": {},
   "outputs": [],
   "source": [
    "connection.list_collections()"
   ]
  },
  {
   "cell_type": "markdown",
   "id": "9c202e07-3c63-42df-9416-20f9cb76e122",
   "metadata": {},
   "source": [
    "### (1) Area of interest 1"
   ]
  },
  {
   "cell_type": "code",
   "execution_count": null,
   "id": "15f49747-8a94-4b70-96c2-b8751d318b8c",
   "metadata": {},
   "outputs": [],
   "source": [
    "# aoi\n",
    "aoi = {\"west\": ...,\n",
    "       \"south\": ...,\n",
    "       \"east\": ...,\n",
    "       \"north\": ...,\n",
    "       \"crs\": \"EPSG:4326\"}"
   ]
  },
  {
   "cell_type": "code",
   "execution_count": null,
   "id": "fb4c70a0-ae95-4a8b-bc2a-7ade6efcac74",
   "metadata": {},
   "outputs": [],
   "source": [
    "cube = connection.load_collection(\n",
    "    \"SENTINEL2_L2A\",\n",
    "     bands=...,\n",
    "     temporal_extent=...,\n",
    "     spatial_extent=aoi,\n",
    "     max_cloud_cover=...,\n",
    ")"
   ]
  },
  {
   "cell_type": "markdown",
   "id": "98ebee91-328a-400b-9168-9d7445709fcc",
   "metadata": {},
   "source": [
    "### (2) Area of interest 2"
   ]
  },
  {
   "cell_type": "code",
   "execution_count": null,
   "id": "e50f6da7-a712-43b2-b2cd-bd7d1bc30104",
   "metadata": {},
   "outputs": [],
   "source": []
  },
  {
   "cell_type": "markdown",
   "id": "5a1a483b-225f-4132-bc75-bf56070dc696",
   "metadata": {},
   "source": [
    "## **Exercise 1.2**\n",
    "\n",
    "On the same areas of interest, plot atmospheric gas observations of NO$_2$, CO and CH$_4$ from Sentinel-5P from an overpass close to the previous chosen dates and where there's visible data. \n",
    "What do you observe?\n",
    "\n",
    "Zoom out to a sub-continental scale where you can see differences in nearby areas and explain what you observe.\n",
    "\n",
    "Represent NO$_2$ and CO in molec/cm$^2$.\n",
    "\n",
    "**Nitrogen dioxide** (NO$_2$) and nitrogen oxide (NO) together are usually referred to as nitrogen oxides. They are important trace gases in the Earth’s atmosphere, present in both the troposphere and the stratosphere. They enter the atmosphere as a result of anthropogenic activities (particularly fossil fuel combustion and biomass burning) and natural processes (such as microbiological processes in soils, wildfires and lightning). Measurements are in mol per square meter (mol/ m$^2$).\n",
    "\n",
    "**Carbon monoxide** (CO) is an important atmospheric trace gas. In certain urban areas, it is a major atmospheric pollutant. Main sources of CO are combustion of fossil fuels, biomass burning, and atmospheric oxidation of methane and other hydrocarbons. The carbon monoxide total column is measured in mol per square meter (mol/ m$^2$).\n",
    "\n",
    "**Methane** is, after carbon dioxide, the most important contributor to the anthropogenically (caused by human activity) enhanced greenhouse effect. Measurements are provided in parts per billion (ppb) with a spatial resolution of 7 km x 3.5 km."
   ]
  },
  {
   "cell_type": "markdown",
   "id": "f58778e4-06c4-424b-8ad1-79517cefc8c7",
   "metadata": {},
   "source": [
    "### (1) Area of interest 1, NO$_2$"
   ]
  },
  {
   "cell_type": "code",
   "execution_count": null,
   "id": "7d6ce01f-668a-4fee-a9d0-85b082f2654d",
   "metadata": {},
   "outputs": [],
   "source": [
    "NO2_cube = connection.load_collection(\n",
    "    \"SENTINEL_5P_L2\",\n",
    "    bands=...,\n",
    "    temporal_extent=...,\n",
    "    spatial_extent=aoi\n",
    ")"
   ]
  },
  {
   "cell_type": "markdown",
   "id": "206bdef1-91e2-4e45-9b17-be9b88299334",
   "metadata": {},
   "source": [
    "### (2) Area of interest 1, CO"
   ]
  },
  {
   "cell_type": "code",
   "execution_count": null,
   "id": "2622ff98-36f7-45f1-b162-2c85c70218e2",
   "metadata": {},
   "outputs": [],
   "source": [
    "CO_cube = connection.load_collection(\n",
    "    \"SENTINEL_5P_L2\",\n",
    "    bands=...,\n",
    "    temporal_extent=...,\n",
    "    spatial_extent=aoi\n",
    ")"
   ]
  },
  {
   "cell_type": "markdown",
   "id": "f23c31f6-0c1a-401d-b59e-b0686ae5f0ad",
   "metadata": {},
   "source": [
    "### (3) Area of interest 1, CH$_4$"
   ]
  },
  {
   "cell_type": "code",
   "execution_count": null,
   "id": "af11e725-817c-4037-a9fd-9170e4b6d426",
   "metadata": {},
   "outputs": [],
   "source": [
    "CH4_cube = connection.load_collection(\n",
    "    \"SENTINEL_5P_L2\",\n",
    "    bands=...,\n",
    "    temporal_extent=...,\n",
    "    spatial_extent=aoi\n",
    ")"
   ]
  },
  {
   "cell_type": "markdown",
   "id": "8a09397b-3fed-4d61-b832-d7686b4f163d",
   "metadata": {},
   "source": [
    "### (4) Area of interest 2, NO$_2$"
   ]
  },
  {
   "cell_type": "code",
   "execution_count": null,
   "id": "f5461c1c-a81f-437c-ab1b-b0a6eb7266a6",
   "metadata": {},
   "outputs": [],
   "source": []
  },
  {
   "cell_type": "markdown",
   "id": "abc9f631-7d5f-4457-838f-ae81e94651b9",
   "metadata": {},
   "source": [
    "### (5) Area of interest 2, CO"
   ]
  },
  {
   "cell_type": "code",
   "execution_count": null,
   "id": "bff5c476-41ff-400e-96a4-8dc8c4345062",
   "metadata": {},
   "outputs": [],
   "source": []
  },
  {
   "cell_type": "markdown",
   "id": "6a56744a-e1bd-4f42-8ecd-a8495ba44ebc",
   "metadata": {},
   "source": [
    "### (6) Area of interest 2, CH$_4$"
   ]
  },
  {
   "cell_type": "code",
   "execution_count": null,
   "id": "b0d98d48-21b9-4752-842f-428a7a526f16",
   "metadata": {},
   "outputs": [],
   "source": []
  },
  {
   "cell_type": "markdown",
   "id": "23d841be-0ea6-4ad7-8d44-c9f4d0f47f33",
   "metadata": {
    "jp-MarkdownHeadingCollapsed": true
   },
   "source": [
    "## **Exercise 1.3: Mask clouds**\n",
    "\n",
    "Combine different images to obtain cloud-free images from the areas of interest of Exercise 1. For this you will need to create a cloud mask using Sentinel-2 scene classification `SCL`band. A simple cloud masking process is described next:\n",
    "1. First build a binary cloud mask from the SCL values 3 (cloud shadows), 8 (cloud medium probability) and 9 (cloud high probability).\n",
    "2. Use the `resample_cube_spatial` function to resample the mask  the “SCL” layer has a “ground sample distance” of 20 meter, while it is 10 meter for the “B02”, “B03” and “B04” bands).\n",
    "3. Apply the cloud mask, and build the composite again."
   ]
  },
  {
   "cell_type": "markdown",
   "id": "f2c9bc46-2333-4c5c-aff2-b143a4761b3d",
   "metadata": {},
   "source": [
    "## **Exercise 1.4: NO$_2$ plumes**\n",
    "\n",
    "In this exercise you will create a small dataset of NO$_2$ plumes. This dataset will be combined with the other students small datasets in the next exercise session, thus you'll end up having a fairly large dataset of plumes. Please follow the guidelines thoroughly so you all end up with a good-quality dataset of NO$_2$ plumes.\n",
    "\n",
    "1. **Collect plume images:** Collect 20 images from Sentinel-5P satellite data showing clear NO$_2$ plumes originating from power plants. Ensure these plumes are distinct and easily identifiable. Use [Copernicus Browser](https://dataspace.copernicus.eu/browser/) to easly navigate between satellite overpasses from different locations and days. You can use the following databases to find interesting locations: (a) [Database](https://atlas.eia.gov/datasets/eia::power-plants/explore) for thermal power plants in the US; (b) Global Power Plant [Database](https://datasets.wri.org/dataset/globalpowerplantdatabase).\n",
    "2. **Collect non-plume images:** In addition to plume images, gather 20 images from similar contexts (e.g., near power plants) that do not show any NO$_2$ plumes. These images are crucial for training your model to distinguish between plumes and non-plumes.\n",
    "**Note:** If you use locations from these databases, please select the locations randomly to ensure you have a high probability of finding plumes different than your classmates.\n",
    "3. In the Copernicus Browser, once you've located a plume, you can draw a box around it, placing the plume origin around the center (but not necessarily if the box doesn't fit the whole plume), make it roughly 50000 km$^2$ and as squared as possible. Then select download image > Analytical. Image format: TIFF (16-bit); Image resolution: HIGH; Coordinate system: WGS 84; Layers: Raw. Note: Once you select the image resolution, you see the pixel size below, this should be close to 64x64.\n",
    "4. Uniformize the images: Process all 20 images to have the following specifications:\n",
    "   - Resolution: Resize all images to a resolution of 64x64 pixels to ensure uniformity.\n",
    "   - File Format: Save images in PNG format.\n",
    "5. When you submit your homework, make sure you include a folder with the 20 plumes."
   ]
  },
  {
   "cell_type": "markdown",
   "id": "eab21a2d-7cf5-41a3-96f5-dd802d28ef7d",
   "metadata": {},
   "source": [
    "**Example:** [Matimba power station](https://en.wikipedia.org/wiki/Matimba_Power_Station) is the largest direct dry-cooled power station in the world. Once we locate this in Copernicus Browser, we can find a day where a clear plume is visible. We crop an area of approximately 50000 km$^2$ containing the plume and download it as a TIFF image that can be visualized here."
   ]
  },
  {
   "cell_type": "code",
   "execution_count": null,
   "id": "4b298079-08bc-40cd-8887-86fa73410b25",
   "metadata": {},
   "outputs": [],
   "source": [
    "# Open the TIFF file\n",
    "with rasterio.open('/coursedata/2019-11-07_Matimba.tiff') as src:\n",
    "    # Read NO2 data stored in the first band\n",
    "    no2_data = src.read(1)"
   ]
  },
  {
   "cell_type": "code",
   "execution_count": null,
   "id": "4c92dff5-5276-4dd7-9c7a-c75bf6b4be63",
   "metadata": {},
   "outputs": [],
   "source": [
    "# plot the plume\n",
    "fig, ax = plt.subplots(figsize=(3, 3))\n",
    "plt.imshow(no2_data, cmap='viridis') \n",
    "plt.show()"
   ]
  },
  {
   "cell_type": "code",
   "execution_count": null,
   "id": "928072fa-6878-4876-8e56-31e23b8c06a0",
   "metadata": {},
   "outputs": [],
   "source": [
    "no2_data.shape"
   ]
  },
  {
   "cell_type": "code",
   "execution_count": null,
   "id": "979a95b2-9e2e-431b-bf8b-a72e9901bc5b",
   "metadata": {},
   "outputs": [],
   "source": [
    "# Calculate the zoom factors for each dimension\n",
    "zoom_factor_y = 64 / no2_data.shape[0]\n",
    "zoom_factor_x = 64 / no2_data.shape[1]\n",
    "\n",
    "# Resize the array\n",
    "no2_reshaped = zoom(no2_data, (zoom_factor_y, zoom_factor_x))"
   ]
  },
  {
   "cell_type": "code",
   "execution_count": null,
   "id": "fc4acbf4-80fe-4ca7-8d20-2929eb3d4814",
   "metadata": {},
   "outputs": [],
   "source": [
    "# plot the plume\n",
    "fig, ax = plt.subplots(figsize=(3, 3))\n",
    "plt.imshow(no2_reshaped, cmap='viridis') \n",
    "plt.show()"
   ]
  },
  {
   "cell_type": "markdown",
   "id": "1e906b0e-b1f8-49e2-a57b-70d214f21433",
   "metadata": {},
   "source": [
    "Plumes need to be stored in a consistent way so then they can be easily convined to form a large dataset. Create two folders `/plumes` and `/non-plumes` and storde them accordingly."
   ]
  },
  {
   "cell_type": "code",
   "execution_count": null,
   "id": "89f1925c-ffdd-4442-b2e7-f440939c9b5e",
   "metadata": {},
   "outputs": [],
   "source": [
    "plume_identifier = 'rndm'  # Replace with a random combination of 4 characters.\n",
    "\n",
    "# Index of the image (1 to 20)\n",
    "image_index = 1\n",
    "\n",
    "# Directory to save plume images\n",
    "output_dir = 'small_dataset_ready/plumes'\n",
    "# directory to save non-plume images\n",
    "#output_dir = 'small_dataset_ready/non-plumes'\n",
    "\n",
    "# Create the output directory if it doesn't exist\n",
    "if not os.path.exists(output_dir):\n",
    "    os.makedirs(output_dir)\n",
    "\n",
    "# Define the file name using the plume identifier and image index\n",
    "file_name = f\"{plume_identifier}_{image_index}.png\"\n",
    "file_path = os.path.join(output_dir, file_name)\n",
    "\n",
    "image = Image.fromarray(no2_reshaped)\n",
    "image.save(file_path, format='PNG')"
   ]
  },
  {
   "cell_type": "markdown",
   "id": "6d1754dd-5a3d-49ba-9f6d-be3339156822",
   "metadata": {},
   "source": [
    "## **Exercise 1.5: Time-lapse** (Optional)\n",
    "Create a time-lapse of one of your areas of interests. You can do it directly in Copernicus Browser. Alternatively, you can code it yourself using [eolearn](https://eo-learn.readthedocs.io/en/latest/examples/core/TimeLapse.html)."
   ]
  },
  {
   "cell_type": "code",
   "execution_count": null,
   "id": "3fdfd182-b70e-443f-b2c2-2f9ff4f67f37",
   "metadata": {},
   "outputs": [],
   "source": []
  }
 ],
 "metadata": {
  "kernelspec": {
   "display_name": "Python 3",
   "language": "python",
   "name": "python3"
  },
  "language_info": {
   "codemirror_mode": {
    "name": "ipython",
    "version": 3
   },
   "file_extension": ".py",
   "mimetype": "text/x-python",
   "name": "python",
   "nbconvert_exporter": "python",
   "pygments_lexer": "ipython3",
   "version": "3.10.12"
  }
 },
 "nbformat": 4,
 "nbformat_minor": 5
}
