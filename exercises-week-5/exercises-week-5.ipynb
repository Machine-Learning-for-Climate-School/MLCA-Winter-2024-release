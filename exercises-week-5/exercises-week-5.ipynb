{
 "cells": [
  {
   "cell_type": "markdown",
   "id": "482fce75-e8cf-44e4-9954-c0d2ca532b6b",
   "metadata": {},
   "source": [
    "# **Excercise session 5: Temperature time series forecasting**"
   ]
  },
  {
   "cell_type": "markdown",
   "id": "3b93473d-3b15-4f3d-82e7-9d8f4c9c4bb2",
   "metadata": {},
   "source": [
    "In this notebook you will work on time series analysis and forecasting, focusing on temperature registers from the Finnish Meteorological Institute's observation stations. There are several weather stations across Finland, you are asked to choose one, collect historical temperature data and perform a detailed time series analysis. After that you will develop two models for forecasting temperature time series: a baseline model and another employing the advanced Prophet model. You will then explore the urban heat island effect by comparing temperature data from urban and rural observation stations."
   ]
  },
  {
   "cell_type": "markdown",
   "id": "0d1b514c-4704-4d4a-b5e3-b50f37fc61c2",
   "metadata": {},
   "source": [
    "This exercise is designed to be completed on Aalto JupyterHub. Please ensure that your notebook includes all necessary installation commands for any additional libraries your code requires. These commands should be clearly written and integrated within your notebook. To submit, go to Nbgrader/Assignment List and click submit next to the exercise. \n",
    "All data loaded from Copernicus Dataspace, should be saved to /coursedata/users/$USER folder.\n",
    "\n",
    "The deadline is Feb 22 at 10:00. We will be grading the submissions as they arrive, so if you submit before the deadline, you will most likely get feedback earlier."
   ]
  },
  {
   "cell_type": "code",
   "execution_count": null,
   "id": "7a2aa41e-db63-448c-a42a-b06efd912879",
   "metadata": {},
   "outputs": [],
   "source": [
    "# Import necessary modules. If any additional modules need to be installed to run it on Aalto JupyterHub, \n",
    "# include all necessary installation commands.\n"
   ]
  },
  {
   "cell_type": "markdown",
   "id": "cc8b0c1c-2d2d-4065-a7a8-b9e9216e97a0",
   "metadata": {},
   "source": [
    "## **Exercise 5.1: Data preparation and exploration** (2 pt)\n",
    "\n",
    "In this excercise you will analyze historical temperature data from a weather observation station in Finland to understand its temperature patterns, variability and trends. Data can be obtained from the [Finnish Meteorological Institute](https://en.ilmatieteenlaitos.fi/download-observations).\n",
    "Choose one weather station located inside a city. Choose hourly observations of average temperature for the period 2014 to 2023.\n",
    "\n",
    "1. **Data loading:** Load the data into a Pandas DataFrame and parse the dates so you end up with two columns: `timestamp`, datetime object of the form `yyyy-mm-dd hh:mm:ss` (as DataFrame index column), and `y`, the average hourly temperature.\n",
    "2. **Data check-up:** check for missing values in the dataset. Depending on the extent and nature of the missing data, you might choose to fill in missing values using methods like forward fill, backward fill, or interpolation. Alternatively, if the missing data is extensive or not randomly distributed, you might opt to remove those observations.\n",
    "5. **Initial exploration:** Plot the entire temperature time series to visualize any noticeable irregularities. Compute statistical summaries to understand the distribution and central tendencies of the temperature data. Justify your choices. Explain in your own words any obvious patterns, trends or anomalies that you see."
   ]
  },
  {
   "cell_type": "code",
   "execution_count": null,
   "id": "dcb6c20a-5339-4062-9e46-49ef5bf6e202",
   "metadata": {},
   "outputs": [],
   "source": []
  },
  {
   "cell_type": "markdown",
   "id": "c8515782-6b7d-41e9-a16b-9390f64ff1e4",
   "metadata": {},
   "source": [
    "## **Exercise 5.2: Time series analysis** (2 pt)\n",
    "\n",
    "In this exercise you will perform a detailed time series analysis to analyze trends, seasonality, and anomalies in the data. \n",
    "\n",
    "1. **Time series decomposition:** The first step is to decompose the time series to observe trends, seasonality and residuals. Analyze the decomposed components and note observations about the trend, seasonal patterns, and residuals. The choice of the seasonality period depends on the specific seasonal effect you wnat to examine:\n",
    "   - For daily cycles (day-night variation), use 24.\n",
    "   - For annual cycles (seasonal changes over the year), use 8760 (= 24$\\cdot$365)\n",
    "2. **Seasonality analysis:** Focus on the seasonal component to identify specific seasonal patterns (daily, monthly, or yearly seasonality).\n",
    "3. **Trend analysis:** Apply a rolling mean with an appropriate window size to analyze long-term trends in temperature. Discuss any increasing or decreasing trends observed.\n",
    "4. **Anomaly detection:** identify and investigate anomalies or outliers in the data, such as unseasonably hot or cold days, and hypothessize potential causes (e.g. heatwaves, cold fronts).\n",
    "\n",
    "\n",
    "**Note:** `statsmodels` library can be useful here. Check [this](https://www.statsmodels.org/stable/examples/index.html#time-series-analysis).\n",
    "\n",
    "You can take a look at [this notebook](https://www.kaggle.com/code/davidandressanchez/seasonal-decomposition) on seasonal decomposition for inspiration."
   ]
  },
  {
   "cell_type": "code",
   "execution_count": null,
   "id": "9f83195d-c879-4cdc-9006-49260aa63584",
   "metadata": {},
   "outputs": [],
   "source": []
  },
  {
   "cell_type": "markdown",
   "id": "597de592-4a2a-437b-987b-0154ad94ce07",
   "metadata": {},
   "source": [
    "## **Exercise 5.3: Build a baseline forecasting model** (4 pt)\n",
    "\n",
    "In this exercise you are asked to create a baseline model to forecast future temperatures based on historical data. This model will serve as a reference model for comparing more complex models like Prophet.\n",
    "\n",
    "1. **Feature engineering**: Depending on your chosen model, you may want to add features to your DataFrame based on the time of the measurement that help capture the temporal dynamics of the series, such as lagged variables, rolling statistics, or time components (e.g., day of the week, month, year).\n",
    "2. **Model selection:** Create a baseline model to forecast temperatures from your chosen location. You may choose from traditional statistical methods like AR, MA or SARIMA, or machine learning models like random forest or XGBoost.\n",
    "3. **Training and test sets:** Divide your dataset into a training set (the first 8 years) and test set (the last 2 years).\n",
    "4. Fit and train your model.\n",
    "5. **Forecasting:** Use the fitted model to predict future temperatures for the test set period.\n",
    "6. **Evaluation:** Evaluate your model forecast using mean absolute error (MAE) and root mean squared error (RMSE).\n",
    "7. **Results:** Visualize your predicted temperatures and compare with the actual temperatures in the test period.\n",
    "8. **Discussion:** Discuss the performance of your chosen baseline model. Reflect on its strengths and limitations in capturing the underlying patterns of the data. "
   ]
  },
  {
   "cell_type": "code",
   "execution_count": null,
   "id": "6f9cc01d-4fe3-4cb5-b508-28d2577e3f1b",
   "metadata": {},
   "outputs": [],
   "source": []
  },
  {
   "cell_type": "markdown",
   "id": "3d79467f-f885-4f6b-ba5f-509597093c8e",
   "metadata": {},
   "source": [
    "## **Exercise 5.4: Advanced time series forecasting with Prophet** (4 pt)\n",
    "\n",
    "In the previous exercise, you used a baseline model to forecast temperatures based on temporal features.  In this exercise you will use [Facebook Prophet](https://facebook.github.io/prophet/docs/quick_start.html) to forecast time series for the same period as in the previous exercise. Prophet is designed to handle time series data, making it well-suited for predicting temperature changes with higher accuracy. The goal is to capture hourly, daily and seasonal temperature variations more accurately, accounting for trends and any cyclical behavior observed in the temperature data.\n",
    "\n",
    "1. Ensure your temperature dataset is formatted correctly for use with Prophet, with columns named `ds` (datetime format) and `y` (temperature).\n",
    "2. Use the same split between training and testing data as in the previous exercise to ensure consistency in comparison.\n",
    "3. Implement the Prophet model.\n",
    "4. Evaluate the Prophet model with the same evaluation metrics as in the previous exercise.\n",
    "5. Use Prophet's built-in plotting functions to visualize the forecast and its components (trend, seasonality, etc.).\n",
    "6. Discuss the differences in the approach between your baseline model and the Prophet model. What are the consequences of these differences on forecast accuracy?"
   ]
  },
  {
   "cell_type": "code",
   "execution_count": null,
   "id": "59d90057-99e2-4c15-8613-31a55cff3bd4",
   "metadata": {},
   "outputs": [],
   "source": []
  },
  {
   "cell_type": "markdown",
   "id": "f32654ee-318b-43f3-b72a-15e80606976f",
   "metadata": {},
   "source": [
    "## **Exercise 5.5: Can you see the urban heat island effect?** (2 pt)\n",
    "\n",
    "In urban areas, surfaces like roads and buildings absorb and retain heat more than natural landscapes, leading to higher temperatures compared to surrounding rural areas. This phenomenon is known as the Urban Heat Island (UHI) effect, and it is most noticeable during the night. In this exercise, you will investigate the UHI effect by comparing temperature data from two weather stations: one located within a city and another in a less urbanized area nearby.\n",
    "\n",
    "1. **Data selection:** Choose a second weather station that is close to your initially selected station but located in a more rural area or further away from the city center. Ensure that both stations have temperature data available for the same time period.\n",
    "2. **Data preparation:** Extract night-time temperature data for both stations, focusing specifically on the hours that are considered night-time. Given Finland's extreme variation in night-time length across seasons, you need to adjust the analysis for these variations. You will analyse summer and winter months separatly.\n",
    "   - **Summer analysis:** During summer months (June, July, August), night-time is very short or non-existent. Consider using the late evening hours (e.g., 10 PM to 2 AM) for analysis (you can adapt this), and justify your choices. This period can still reflect urban heat retention even during the shortest nights.\n",
    "   - **Winter analysis:** In winter (December, January, February), when nights are long, choose a consistent night-time window that reflects the coldest part of the night (e.g., 12 AM to 5 AM), when the UHI effect might be more pronounced due to prolonged darkness.\n",
    "3. **Data analysis:** Calculate the average night-time temperature for each day for both locations. Compare the daily average night-time temperatures between the two stations over a significant period to identify any consistent temperature differences.\n",
    "4. **Visualization:** Visualize the temperature differences between the urban and rural (or less urbanized) stations over time. Highlight any patterns or anomalies observed in the data, particularly those that might indicate the presence of the UHI effect.\n",
    "5. **Discussion:** Discuss your findings, focusing on whether the data supports the existence of the UHI effect in the selected location. Reflect on the potential factors contributing to the observed temperature differences, such as urban density, vegetation cover, or proximity to heat-generating sources.\n",
    "\n",
    "**Remark:** Finland’s geographical position leads to significant variations in day length throughout the year, which can influence the UHI effect. In summer, the almost continuous daylight in many parts of Finland means urban areas may not cool down as much during the night, potentially exaggerating the UHI effect. In contrast, during the long winter nights, differences in temperature between urban and rural areas might be influenced by factors like snow cover and heating practices. Considering these seasonal variations is essential for accurately assessing the UHI effect in your analysis."
   ]
  },
  {
   "cell_type": "code",
   "execution_count": null,
   "id": "0c892424-9388-44f5-87dc-773eb777b522",
   "metadata": {},
   "outputs": [],
   "source": []
  },
  {
   "cell_type": "markdown",
   "id": "fd75655e-b183-4158-ac6a-89ffddb84fd8",
   "metadata": {},
   "source": [
    "## **Exercise 5.6 (Optional): Enhancing your model with additional data** (4 pt)\n",
    "\n",
    "Build on your previous forecasting models to refine your model's predictive performance by incorporating additional features. You can check [here](https://en.ilmatieteenlaitos.fi/download-observations) for more weather parameters.\n",
    "\n",
    "Note that adding more variables to the model can increase its complexity, so it's important to justify the inclusion of each new feature based on its expected impact on model performance and its relevance to the forecasting objective."
   ]
  },
  {
   "cell_type": "code",
   "execution_count": null,
   "id": "67e1a14e-0c69-4b64-9762-7fc972f2d623",
   "metadata": {},
   "outputs": [],
   "source": []
  }
 ],
 "metadata": {
  "kernelspec": {
   "display_name": "OpenEO",
   "language": "python",
   "name": "openeo"
  },
  "language_info": {
   "codemirror_mode": {
    "name": "ipython",
    "version": 3
   },
   "file_extension": ".py",
   "mimetype": "text/x-python",
   "name": "python",
   "nbconvert_exporter": "python",
   "pygments_lexer": "ipython3",
   "version": "3.11.4"
  }
 },
 "nbformat": 4,
 "nbformat_minor": 5
}
