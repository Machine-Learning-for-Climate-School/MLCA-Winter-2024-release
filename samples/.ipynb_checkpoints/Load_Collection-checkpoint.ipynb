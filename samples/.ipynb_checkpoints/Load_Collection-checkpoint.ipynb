{
 "cells": [
  {
   "cell_type": "raw",
   "metadata": {
    "jupyter": {
     "outputs_hidden": false
    }
   },
   "source": [
    "---\n",
    "execute:\n",
    "  enabled: false\n",
    "format:\n",
    "  html:\n",
    "    code-fold: false\n",
    "jupyter: python3\n",
    "---"
   ]
  },
  {
   "cell_type": "markdown",
   "metadata": {
    "jupyter": {
     "outputs_hidden": false
    }
   },
   "source": [
    "# openEO Basics: How to load a data cube from a data collection?\n",
    "\n",
    "This notebook provides a detailed guide on how to load a `DataCube` from a data collection.\n",
    "Additionally, it will cover how to authenticate in order to process and download data.\n",
    "\n",
    "Source: Copernicus Data Space Ecosystem JupyterHub"
   ]
  },
  {
   "cell_type": "markdown",
   "metadata": {},
   "source": [
    "## Setup\n",
    "\n",
    "Import the `openeo` package and connect to the Copernicus Data Space Ecosystem openEO back-end."
   ]
  },
  {
   "cell_type": "code",
   "execution_count": null,
   "metadata": {},
   "outputs": [],
   "source": [
    "import openeo\n",
    "import xarray\n",
    "import matplotlib.pyplot as plt"
   ]
  },
  {
   "cell_type": "code",
   "execution_count": null,
   "metadata": {},
   "outputs": [],
   "source": [
    "connection = openeo.connect(url=\"openeo.dataspace.copernicus.eu\")\n",
    "connection"
   ]
  },
  {
   "cell_type": "markdown",
   "metadata": {},
   "source": [
    "Note the `NullAuth` in the representation of the connection, which indicates that we are not logged in yet.\n",
    "\n",
    "The canonical way to log in is using the `authenticate_oidc()` method.\n",
    "This might, depending on your situation, trigger an authentication procedure. \n",
    "Follow the instructions, if any."
   ]
  },
  {
   "cell_type": "code",
   "execution_count": null,
   "metadata": {},
   "outputs": [],
   "source": [
    "connection.authenticate_oidc()"
   ]
  },
  {
   "cell_type": "markdown",
   "metadata": {},
   "source": [
    "Note that the connection is now authenticated now through `OidcBearerAuth`."
   ]
  },
  {
   "cell_type": "markdown",
   "metadata": {},
   "source": [
    "## Data Loading\n",
    "\n",
    "With our authenticated connection, we can now start loading a data collection data to build a `DataCube`,\n",
    "filtered according to specific spatio-temporal constraints:"
   ]
  },
  {
   "cell_type": "code",
   "execution_count": null,
   "metadata": {},
   "outputs": [],
   "source": [
    "s2_cube = connection.load_collection(\n",
    "    \"SENTINEL2_L2A\",\n",
    "    temporal_extent=(\"2022-05-01\", \"2022-05-30\"),\n",
    "    spatial_extent={\n",
    "        \"west\": 3.20,\n",
    "        \"south\": 51.18,\n",
    "        \"east\": 3.25,\n",
    "        \"north\": 51.21,\n",
    "        \"crs\": \"EPSG:4326\",\n",
    "    },\n",
    "    bands=[\"B04\", \"B03\", \"B02\", \"SCL\"],\n",
    "    max_cloud_cover=50,\n",
    ")"
   ]
  },
  {
   "cell_type": "markdown",
   "metadata": {},
   "source": [
    "Let's download this slice of data in netCDF format to give it an initial inspection."
   ]
  },
  {
   "cell_type": "code",
   "execution_count": null,
   "metadata": {},
   "outputs": [],
   "source": [
    "s2_cube.download(\"load-raw.nc\")"
   ]
  },
  {
   "cell_type": "markdown",
   "metadata": {},
   "source": [
    "Quick visualisation of first and last observation in the timeseries."
   ]
  },
  {
   "cell_type": "code",
   "execution_count": null,
   "metadata": {},
   "outputs": [],
   "source": [
    "ds = xarray.load_dataset(\"load-raw.nc\")\n",
    "# Convert xarray DataSet to a (bands, t, x, y) DataArray\n",
    "data = ds[[\"B04\", \"B03\", \"B02\"]].to_array(dim=\"bands\")\n",
    "\n",
    "fig, axes = plt.subplots(ncols=2, figsize=(8, 3), dpi=90, sharey=True)\n",
    "data[{\"t\": 0}].plot.imshow(vmin=0, vmax=2000, ax=axes[0])\n",
    "data[{\"t\": -1}].plot.imshow(vmin=0, vmax=2000, ax=axes[1]);"
   ]
  },
  {
   "cell_type": "markdown",
   "metadata": {},
   "source": [
    "Notice how the observation on the right suffers from clouds and cloud shadows."
   ]
  },
  {
   "cell_type": "markdown",
   "metadata": {},
   "source": [
    "## Data Processing\n",
    "\n",
    "\n",
    "Let's include a bit of extra data processing.\n",
    "We'll build a naive composite image by taking the temporal maximum:"
   ]
  },
  {
   "cell_type": "code",
   "execution_count": null,
   "metadata": {},
   "outputs": [],
   "source": [
    "composite = s2_cube.max_time()"
   ]
  },
  {
   "cell_type": "markdown",
   "metadata": {},
   "source": [
    "Download this composite and visualize it:"
   ]
  },
  {
   "cell_type": "code",
   "execution_count": null,
   "metadata": {},
   "outputs": [],
   "source": [
    "composite.download(\"load-composite.nc\")"
   ]
  },
  {
   "cell_type": "code",
   "execution_count": null,
   "metadata": {},
   "outputs": [],
   "source": [
    "ds = xarray.load_dataset(\"load-composite.nc\")\n",
    "# Convert xarray DataSet to a (bands, x, y) DataArray\n",
    "data = ds[[\"B04\", \"B03\", \"B02\"]].to_array(dim=\"bands\")\n",
    "\n",
    "fig, ax = plt.subplots(ncols=1, figsize=(4, 4), dpi=90)\n",
    "data.plot.imshow(vmin=0, vmax=2000, ax=ax)"
   ]
  },
  {
   "cell_type": "markdown",
   "metadata": {},
   "source": [
    "Note how the clouds influence this composite: while the cloud shadows are eliminated by the `max` operation,\n",
    "the bright clouds ruin the composite image.\n",
    "\n",
    "## Cloud masking\n",
    "\n",
    "In general, to make the raw data more useful, we typically want remove the cloud pixels and only work with non-cloud data.\n",
    "It is very common for earth observation data to have separate masking layers that for instance indicate whether a pixel is covered by a (type of) cloud or not.\n",
    "For Sentinel-2, one such layer is the \"scene classification\" layer (band name \"SCL\") generated by the Sen2Cor algorithm.\n",
    "\n",
    "With openEO and the openEO Python client library, \n",
    "we can take this \"SCL\" band (which we already included before in the `load_collection` call)\n",
    "and apply cloud masking as follows.\n",
    "\n",
    "First we build a binary cloud mask from the SCL values 3 (cloud shadows), 8 (cloud medium probability) and 9 (cloud high probability):"
   ]
  },
  {
   "cell_type": "code",
   "execution_count": null,
   "metadata": {},
   "outputs": [],
   "source": [
    "scl_band = s2_cube.band(\"SCL\")\n",
    "cloud_mask = (scl_band == 3) | (scl_band == 8) | (scl_band == 9)\n",
    "\n",
    "# TODO: TEMP WORKAROUND FOR OFFSET ERROR ON SCL BAND\n",
    "cloud_mask = (scl_band == 3 - 1000) | (scl_band == 8 - 1000) | (scl_band == 9 - 1000)"
   ]
  },
  {
   "cell_type": "markdown",
   "metadata": {},
   "source": [
    "Before we can apply this mask to the cube we have to resample it, as the “SCL” layer has a “ground sample distance” of 20 meter, while it is 10 meter for the “B02”, “B03” and “B04” bands. \n",
    "We can easily do the resampling by referring directly to the data cube to mask."
   ]
  },
  {
   "cell_type": "code",
   "execution_count": null,
   "metadata": {},
   "outputs": [],
   "source": [
    "cloud_mask = cloud_mask.resample_cube_spatial(s2_cube)"
   ]
  },
  {
   "cell_type": "markdown",
   "metadata": {},
   "source": [
    "Apply the cloud mask, and build the composite again:"
   ]
  },
  {
   "cell_type": "code",
   "execution_count": null,
   "metadata": {},
   "outputs": [],
   "source": [
    "cube_masked = s2_cube.mask(cloud_mask)\n",
    "\n",
    "composite_masked = cube_masked.max_time()"
   ]
  },
  {
   "cell_type": "markdown",
   "metadata": {},
   "source": [
    "Download the result and visualize it."
   ]
  },
  {
   "cell_type": "code",
   "execution_count": null,
   "metadata": {},
   "outputs": [],
   "source": [
    "composite_masked.download(\"load-composite-masked.nc\")"
   ]
  },
  {
   "cell_type": "code",
   "execution_count": null,
   "metadata": {},
   "outputs": [],
   "source": [
    "ds = xarray.load_dataset(\"load-composite-masked.nc\")\n",
    "# Convert xarray DataSet to a (bands, x, y) DataArray\n",
    "data = ds[[\"B04\", \"B03\", \"B02\"]].to_array(dim=\"bands\")\n",
    "\n",
    "fig, ax = plt.subplots(ncols=1, figsize=(4, 4), dpi=90)\n",
    "data.plot.imshow(vmin=0, vmax=2000, ax=ax);"
   ]
  },
  {
   "cell_type": "markdown",
   "metadata": {},
   "source": [
    "The cloud masking clearly helped to build a better composte.\n",
    "Note however that there are still some artifacts due to the quality of the SCL band and our simple cloud mask."
   ]
  },
  {
   "cell_type": "code",
   "execution_count": null,
   "metadata": {},
   "outputs": [],
   "source": []
  },
  {
   "cell_type": "code",
   "execution_count": null,
   "metadata": {},
   "outputs": [],
   "source": []
  }
 ],
 "metadata": {
  "kernelspec": {
   "display_name": "Python 3",
   "language": "python",
   "name": "python3"
  },
  "language_info": {
   "codemirror_mode": {
    "name": "ipython",
    "version": 3
   },
   "file_extension": ".py",
   "mimetype": "text/x-python",
   "name": "python",
   "nbconvert_exporter": "python",
   "pygments_lexer": "ipython3",
   "version": "3.10.12"
  }
 },
 "nbformat": 4,
 "nbformat_minor": 4
}
